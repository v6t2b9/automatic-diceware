{
 "cells": [
  {
   "cell_type": "code",
   "execution_count": 68,
   "id": "36099bf8",
   "metadata": {},
   "outputs": [],
   "source": [
    "import pandas\n",
    "from random import randrange"
   ]
  },
  {
   "cell_type": "code",
   "execution_count": 77,
   "id": "68f87181",
   "metadata": {},
   "outputs": [],
   "source": [
    "diceware_file = open('import/diceware.txt', 'r')\n",
    "\n",
    "diceware = diceware_file.readlines()\n",
    "\n",
    "dice_dict = {}\n",
    "\n",
    "for line in diceware:\n",
    "    dice_dict[line[:5]] = line[5:].strip('\\n').strip(' ')\n",
    "    \n",
    "def throw_dice(number_of_words = 4):\n",
    "    password = []\n",
    "    for i in range(0,number_of_words):\n",
    "        throw = str(randrange(5) + 1) + str(randrange(5) + 1) + str(randrange(5) + 1) + str(randrange(5) + 1) + str(randrange(5) + 1)\n",
    "        password.append(dice_dict[throw])\n",
    "    print('-'.join(password))"
   ]
  },
  {
   "cell_type": "code",
   "execution_count": 87,
   "id": "1865d875",
   "metadata": {},
   "outputs": [
    {
     "name": "stdout",
     "output_type": "stream",
     "text": [
      "kilo-menue-hbf-besen\n"
     ]
    }
   ],
   "source": [
    "throw_dice(4)"
   ]
  },
  {
   "cell_type": "code",
   "execution_count": null,
   "id": "bf9947fd",
   "metadata": {},
   "outputs": [],
   "source": []
  }
 ],
 "metadata": {
  "kernelspec": {
   "display_name": "Python 3 (ipykernel)",
   "language": "python",
   "name": "python3"
  },
  "language_info": {
   "codemirror_mode": {
    "name": "ipython",
    "version": 3
   },
   "file_extension": ".py",
   "mimetype": "text/x-python",
   "name": "python",
   "nbconvert_exporter": "python",
   "pygments_lexer": "ipython3",
   "version": "3.8.2"
  }
 },
 "nbformat": 4,
 "nbformat_minor": 5
}
